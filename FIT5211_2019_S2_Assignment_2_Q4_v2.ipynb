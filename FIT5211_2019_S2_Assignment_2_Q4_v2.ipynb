{
 "cells": [
  {
   "cell_type": "markdown",
   "metadata": {
    "colab_type": "text",
    "id": "B1Cy0DTet2wj"
   },
   "source": [
    "# Q4 String Register (25 marks)"
   ]
  },
  {
   "cell_type": "markdown",
   "metadata": {
    "colab_type": "text",
    "id": "c-M_kUMmt2wn"
   },
   "source": [
    "We want to design a data structure which we will call a *register* and which has the following properties:\n",
    "* It stores strings of characters belonging to an alphabet $A$. We denote $c$ the total number of characters in the alphabet $A$. $A$ can be set to be any set of *comparable* characters, e.g. $\\{a, b, c\\}$, or $\\{0, \\dots,9\\}$, or $\\{a, \\dots, z, A, \\dots, Z\\}$.\n",
    "* The operation to determine whether a string of size $k$ belongs to the register takes $O(k \\log c)$ runtime in the worst case.\n",
    "* Adding a string to the register takes $O(k \\times c)$ runtime in the worst case.\n",
    "* Removing a string from the register takes $O(k \\log c)$ runtime in the worst case.\n",
    "\n",
    "Note that the runtime complexities are independent of the number of elements stored in the register.\n",
    "Finally, remark that a string and (some of) its substring can all belong to the register."
   ]
  },
  {
   "cell_type": "markdown",
   "metadata": {
    "colab_type": "text",
    "id": "bQBQQqp0t2wq"
   },
   "source": [
    "## Q4.1 (22 marks)\n",
    "Without using other data structures than Python lists, describe a data structure which meets the requirements described above. We recommend using a tree.\n",
    "\n",
    "If you cannot find a way to meet the runtime requirements, provide an algorithm and implementation anyway. You may get up to half of the marks for doing so."
   ]
  },
  {
   "cell_type": "markdown",
   "metadata": {
    "colab_type": "text",
    "id": "UsC11TUdt2wt"
   },
   "source": [
    "(write your answer here)"
   ]
  },
  {
   "cell_type": "markdown",
   "metadata": {
    "colab_type": "text",
    "id": "O0e4TjeNt2wx"
   },
   "source": [
    "Implement this algorithm:"
   ]
  },
  {
   "cell_type": "code",
   "execution_count": 0,
   "metadata": {
    "colab": {},
    "colab_type": "code",
    "collapsed": true,
    "id": "iWsjrJjQt2w0"
   },
   "outputs": [],
   "source": [
    "#TODO implement the algorithm"
   ]
  },
  {
   "cell_type": "markdown",
   "metadata": {
    "colab_type": "text",
    "id": "o3zbHbU_t2w5"
   },
   "source": [
    "Using the module *unittest*, write unit tests for your class. To obtain full marks, you need to write unit tests which extensively cover all cases. We recommend using the module *random*. Note that this question will only be marked if you provide __both__ a functional program and unit tests. You will only receive marks for features which are implemented __and__ tested convincingly."
   ]
  },
  {
   "cell_type": "code",
   "execution_count": 0,
   "metadata": {
    "colab": {},
    "colab_type": "code",
    "collapsed": true,
    "id": "IUC1PGIat2w6"
   },
   "outputs": [],
   "source": [
    "import unittest\n",
    "#TODO implement unit tests."
   ]
  },
  {
   "cell_type": "markdown",
   "metadata": {
    "colab_type": "text",
    "id": "TQauN2m_t2w-"
   },
   "source": [
    "## Q4.2 (3 marks)\n",
    "Determine and prove the worst-case runtime complexity of each of the *core* operations of the register. "
   ]
  },
  {
   "cell_type": "markdown",
   "metadata": {
    "colab_type": "text",
    "id": "mVpMSfGKt2xB"
   },
   "source": [
    "(write your answer here)"
   ]
  }
 ],
 "metadata": {
  "colab": {
   "collapsed_sections": [],
   "name": "FIT5211_2019_S2_Assignment_2_Q4_v2.ipynb",
   "provenance": []
  },
  "kernelspec": {
   "display_name": "Python 3",
   "language": "python",
   "name": "python3"
  },
  "language_info": {
   "codemirror_mode": {
    "name": "ipython",
    "version": 3
   },
   "file_extension": ".py",
   "mimetype": "text/x-python",
   "name": "python",
   "nbconvert_exporter": "python",
   "pygments_lexer": "ipython3",
   "version": "3.5.5"
  }
 },
 "nbformat": 4,
 "nbformat_minor": 0
}
